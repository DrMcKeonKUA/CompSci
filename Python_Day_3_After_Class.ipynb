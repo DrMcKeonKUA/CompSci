{
  "nbformat": 4,
  "nbformat_minor": 0,
  "metadata": {
    "colab": {
      "name": "Python Day 3.ipynb",
      "provenance": [],
      "collapsed_sections": []
    },
    "kernelspec": {
      "name": "python3",
      "display_name": "Python 3"
    },
    "language_info": {
      "name": "python"
    }
  },
  "cells": [
    {
      "cell_type": "markdown",
      "metadata": {
        "id": "YTsQ0_NPn2WO"
      },
      "source": [
        "# Strings, Lists, Inputs  "
      ]
    },
    {
      "cell_type": "markdown",
      "metadata": {
        "id": "B5nahfWHiwKL"
      },
      "source": [
        "Strings"
      ]
    },
    {
      "cell_type": "code",
      "metadata": {
        "id": "xTKIGVSq5wyE",
        "colab": {
          "base_uri": "https://localhost:8080/"
        },
        "outputId": "b94c843e-3b8c-402a-d2b1-567a33d5c588"
      },
      "source": [
        "# String Concatenation \n",
        "one = \"do you like \"\n",
        "two = \"green eggs and ham?\"\n",
        "three = \" yes, I like them Sam I am.\"\n",
        "\n",
        "allTogether = one + two + three\n",
        "print(allTogether)\n",
        "\n",
        "print(one[9])\n",
        "#print(one[])\n",
        "\n",
        "#search strings with str.find()\n",
        "\n",
        "# Quotes in Strings\n",
        "x = \"it's a long ride for someone with nothing to think about\"\n",
        "#y = 'it's a long ride for someone with nothing to think about'\n",
        "\n",
        "\n",
        "print(x.find(\"g\"))\n",
        "print(x.find(\"z\"))\n",
        "print(x.find(\"one\"))   # part of a word in the string can be found if the target is a fragment\n",
        "print(x.find(\"rides\")) # but part of the target cannot be matched in the string, the whole target must match\n",
        "\n",
        "print('Where is the \"to think\" statement? It starts at: ' + str(x.find(\"to think\")))\n"
      ],
      "execution_count": 20,
      "outputs": [
        {
          "output_type": "stream",
          "name": "stdout",
          "text": [
            "do you like green eggs and ham? yes, I like them Sam I am.\n",
            "k\n",
            "10\n",
            "-1\n",
            "25\n",
            "-1\n",
            "Where is the \"to think\" statement? It starts at: 42\n"
          ]
        }
      ]
    },
    {
      "cell_type": "markdown",
      "metadata": {
        "id": "0n49jIUpvqId"
      },
      "source": [
        "Lists and Indexing "
      ]
    },
    {
      "cell_type": "code",
      "metadata": {
        "id": "KH1raeAzvpsr",
        "colab": {
          "base_uri": "https://localhost:8080/"
        },
        "outputId": "f947e61b-5881-4931-d8a4-decf704c20bf"
      },
      "source": [
        "# LISTS\n",
        "\n",
        "# LISTS - containers for multiple values\n",
        "\n",
        "num_list = [1,2,3,4,5,6,7,8,9]\n",
        "list2D = [[1,2,3],[4,5,6]]\n",
        "print(list2D)  # grab one of the whole lists\n",
        "print(list2D[1][1]) # grab a single value from the second list\n",
        "\n",
        "   \n",
        "str_list = [\"me\", \"myself\", \"i\"]\n",
        "\n",
        "mixed_list = [1,2,\"three\",4,\"five\"]   # it's possible, but not ususally recommended\n",
        "\n",
        "# List indexing - same as string indexing - start from zero\n",
        "\n",
        "#       num_list = [ 1 , 2 , 3 , 4 , 5 , 6 , 7 , 8 , 9 ]\n",
        "# index            < 0 , 1 , 2 , 3 , 4 , 5 , 6 , 7 , 8 >\n",
        "# rev index        < -9, -8, -7, -6, -5, -4, -3, -2, -1>\n",
        "\n",
        "#       str_list = [\"me\", \"myself\", \"i\"]\n",
        "# index            [  0 ,    1    ,  2 ]\n",
        "# rev index        [ -3 ,   -2    ,  -1]\n",
        "\n",
        "num_list[3]     # one value\n",
        "num_list[-2]    # from the end\n",
        "print(num_list[3:6])   # range\n",
        "num_list[3:]    # all values after and index\n",
        "\n",
        "# selecting a range of values (slicing)\n",
        "# index range (exclusive, does not include the last index)\n",
        "num_list[0:3]\n",
        "\n",
        "# ??? print the values 4,5,6,7 from num_list\n",
        "num_list[3:7]\n",
        "#num_list[-6,-2]  # smae thing, just using the reverse case\n",
        "\n",
        "# every nth value - list[start:end:step]\n",
        "print(num_list[1:9:2])\n",
        "\n",
        "# ??? odd numbers\n",
        "\n",
        "\n",
        "#List length\n",
        "len(str_list)\n",
        "\n",
        "# reassigning\n",
        "#str_list[3] = \"giraffe\""
      ],
      "execution_count": 30,
      "outputs": [
        {
          "output_type": "stream",
          "name": "stdout",
          "text": [
            "[[1, 2, 3], [4, 5, 6]]\n",
            "5\n",
            "[4, 5, 6]\n",
            "[2, 4, 6, 8]\n"
          ]
        },
        {
          "output_type": "execute_result",
          "data": {
            "text/plain": [
              "3"
            ]
          },
          "metadata": {},
          "execution_count": 30
        }
      ]
    },
    {
      "cell_type": "markdown",
      "metadata": {
        "id": "u_104ywEu-ho"
      },
      "source": [
        "User Input and Formatting Print Statements"
      ]
    },
    {
      "cell_type": "code",
      "metadata": {
        "colab": {
          "base_uri": "https://localhost:8080/"
        },
        "id": "uabrIAt_mPp7",
        "outputId": "d547087d-e3f9-4989-9d46-6b4016ba0aa1"
      },
      "source": [
        "strInput = input(\"What is your favorite color? \")\n",
        "print(\"your favorite color is \" + strInput)\n",
        "\n",
        "intInputRaw = []\n",
        "intInputRaw = int(input(\"How old are you? \"))\n",
        "print(type(intInputRaw))\n",
        "\n",
        "#intInput = int(intInputRaw)\n",
        "#print(type(intInput))\n",
        "#print(intInput)"
      ],
      "execution_count": 36,
      "outputs": [
        {
          "output_type": "stream",
          "name": "stdout",
          "text": [
            "What is your favorite color? pink\n",
            "your favorite color is pink\n",
            "How old are you? 40\n",
            "<class 'int'>\n"
          ]
        }
      ]
    },
    {
      "cell_type": "markdown",
      "metadata": {
        "id": "1WHfHw71ta5j"
      },
      "source": [
        "Boolean Data Type"
      ]
    },
    {
      "cell_type": "code",
      "metadata": {
        "colab": {
          "base_uri": "https://localhost:8080/"
        },
        "id": "Rwd1Pm3Tph9v",
        "outputId": "9bab176e-cf3f-43d5-8be3-99185300c927"
      },
      "source": [
        "# BOOLEAN Values - True and False\n",
        "ducks = True\n",
        "flying_pigs = Falses\n",
        "\n",
        "# use print() to see the results\n",
        "ans = 3 > 4\n",
        "ans = 5 != 3.3\n",
        "ans = 4 == 3\n",
        "\n",
        "\n",
        "\n"
      ],
      "execution_count": null,
      "outputs": [
        {
          "output_type": "stream",
          "name": "stdout",
          "text": [
            "the other is larger.\n",
            "my vars are not the same.\n",
            "the list wins.\n"
          ]
        }
      ]
    },
    {
      "cell_type": "markdown",
      "metadata": {
        "id": "UYJthVGkjeoe"
      },
      "source": [
        "##Flow Control\n",
        "Conditional Statements "
      ]
    },
    {
      "cell_type": "code",
      "metadata": {
        "id": "PndRTg0AuQst"
      },
      "source": [
        "\n",
        "# Basic IF Statement\n",
        "#\n",
        "# IF var meets condition:\n",
        "#    do something...\n",
        "\n",
        "my_var = -1\n",
        "\n",
        "if my_var > 0:\n",
        "    print( \"my_var is positive\")\n",
        "    \n",
        "# the conditions can be simple comparisons\n",
        "#   or more complex with math or multiple conditions\n",
        "\n",
        "# essentially IF statements are testing for TRUE or FALSE\n",
        "\n",
        "# Some examples\n",
        "my_other_var = 6\n",
        "if my_var < my_other_var:\n",
        "  print(\"the other is larger.\")\n",
        "\n",
        "if my_var != my_other_var:\n",
        "  print(\"my vars are not the same.\")\n",
        "\n",
        "# using a function in an If statement\n",
        "my_list = [1,3,7,2,8,5,12,7,2,1,9]\n",
        "\n",
        "\n",
        "\n",
        "# compare my_other_var with the largest value in my_list\n",
        "if my_other_var < max(my_list):\n",
        "  print(\"the list wins.\")\n",
        "\n",
        "\n",
        "\n",
        "# ELSEIF - adding additional conditions\n",
        "#\n",
        "# if var meets condition:\n",
        "#    do something...\n",
        "# check another condition:\n",
        "#    do something...\n",
        "# if not (ELSE):\n",
        "#    do something else\n",
        "\n",
        "if my_var % 2 == 0:           # wait... what is %??  Google it!\n",
        "    print( \"my_var is even\")\n",
        "else:\n",
        "    print( \"my_var is odd\")"
      ],
      "execution_count": null,
      "outputs": []
    },
    {
      "cell_type": "code",
      "metadata": {
        "id": "JsL0lngWx5pO"
      },
      "source": [
        "#%% IF...ELSE\n",
        "#\n",
        "# IF var meets condition:\n",
        "#    do something...\n",
        "# ELSE (if not):\n",
        "#    do something else\n",
        "\n",
        "my_var = 13458\n",
        "\n",
        "if my_var % 2 == 0:\n",
        "    print( \"my_var is even\")\n",
        "else:\n",
        "    print( \"my_var is odd\")"
      ],
      "execution_count": null,
      "outputs": []
    },
    {
      "cell_type": "code",
      "metadata": {
        "colab": {
          "base_uri": "https://localhost:8080/"
        },
        "id": "KkZff2lJx6q8",
        "outputId": "7bb16b32-7a2a-435a-929c-02ac94018288"
      },
      "source": [
        "# ELSEIF - adding additional conditions\n",
        "#\n",
        "# if var meets condition:\n",
        "#    do something...\n",
        "# check another condition:\n",
        "#    do something...\n",
        "# if not (ELSE):\n",
        "#    do something else\n",
        "\n",
        "# Call upon the Random Library to generate random numbers for us!  \n",
        "import random as rand\n",
        "my_var1 = rand.randint(1,100)\n",
        "my_var2 = rand.randint(1,100)\n",
        "\n",
        "print( \"my_var1 = %i and my_var2 = %i\" %(my_var1,my_var2))\n",
        "\n",
        "if my_var1 > my_var2:           \n",
        "    print( \"my_var1 is larger\")\n",
        "elif my_var2 > my_var1:\n",
        "    print(\"my_var2 is larger\")\n",
        "else:\n",
        "    print( \"my_vars are equal... how random!\")"
      ],
      "execution_count": null,
      "outputs": [
        {
          "output_type": "stream",
          "name": "stdout",
          "text": [
            "my_var1 = 2 and my_var2 = 96\n",
            "my_var2 is larger\n"
          ]
        }
      ]
    },
    {
      "cell_type": "code",
      "metadata": {
        "colab": {
          "base_uri": "https://localhost:8080/"
        },
        "id": "XRf7ajmtydyp",
        "outputId": "18046039-3225-424e-e984-a4fbe9550940"
      },
      "source": [
        "# USING AND and OR in IF STATEMENTS\n",
        "#\n",
        "# AND and OR can be used to test multiple conditions in a single IF\n",
        "\n",
        "my_var1 = rand.randint(1,100)\n",
        "my_var2 = rand.randint(1,100)\n",
        "\n",
        "print( \"my_var1 = %i and my_var2 = %i\" %(my_var1,my_var2))\n",
        "\n",
        "if my_var1 < 30 and my_var2 < 30:\n",
        "    print( \"my vars are less then 30\")\n",
        "elif my_var1 < 30 or my_var2 < 30:\n",
        "    print( \"var1 or var2 is less that 30\")\n",
        "    if my_var1 < 30:\n",
        "        print( \"var1 is less than 30\")\n",
        "    else:\n",
        "        print( \"B is less than 30\")\n",
        "else:\n",
        "    print( \"Neither is less than 30\")"
      ],
      "execution_count": null,
      "outputs": [
        {
          "output_type": "stream",
          "name": "stdout",
          "text": [
            "my_var1 = 18 and my_var2 = 20\n",
            "my vars are less then 30\n"
          ]
        }
      ]
    },
    {
      "cell_type": "code",
      "metadata": {
        "id": "huOdM-lw1Z6_"
      },
      "source": [
        ""
      ],
      "execution_count": null,
      "outputs": []
    }
  ]
}